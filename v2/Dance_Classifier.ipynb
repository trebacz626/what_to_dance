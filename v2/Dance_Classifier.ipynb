{
 "cells": [
  {
   "cell_type": "markdown",
   "metadata": {},
   "source": [
    "# Dance music detector"
   ]
  },
  {
   "cell_type": "markdown",
   "metadata": {},
   "source": [
    "This is the second attempt to train a neural network that would recognize what kind of dance can I dance to a given song. This time I gathered more, better quality data."
   ]
  },
  {
   "cell_type": "code",
   "execution_count": 1,
   "metadata": {},
   "outputs": [],
   "source": [
    "import librosa\n",
    "import librosa.display\n",
    "import IPython\n",
    "import matplotlib.pyplot as plt\n",
    "import numpy as np\n",
    "from skimage import io\n",
    "import os\n",
    "from pathlib import Path\n",
    "import random\n",
    "import multiprocessing as mp\n",
    "import random\n",
    "from pydub import AudioSegment\n",
    "import warnings\n",
    "warnings.filterwarnings('ignore')"
   ]
  },
  {
   "cell_type": "markdown",
   "metadata": {},
   "source": [
    "Those are the playlists that someone, who would like to train their own network, might use. One can use spotdl to download those playlists."
   ]
  },
  {
   "cell_type": "code",
   "execution_count": 20,
   "metadata": {},
   "outputs": [],
   "source": [
    "playlists = [\n",
    "    [\n",
    "        \"ChaCha\",\n",
    "        \"https://open.spotify.com/playlist/3QKbcarTgTjfiVp5MziWEo?si=oYrGvKSUSLa12suTXiTWuw\",\n",
    "    ],\n",
    "    [\n",
    "        \"Salsa\",\n",
    "        \"https://open.spotify.com/playlist/16uyZReJ5vQvONxpLEjmvy?si=z4JMOwKkRbexBM4AoalhIw\",\n",
    "    ],\n",
    "    [\n",
    "        \"Bachata\",\n",
    "        \"https://open.spotify.com/playlist/4ptcVAWHT2IxhHsi5DDD4s?si=rv_BrSQKQEWl1ePCjk8zPA\",\n",
    "    ],\n",
    "    [\n",
    "        \"Rock&Roll\",\n",
    "        \"https://open.spotify.com/playlist/4Wf4GCxJfRvKOJbQg4eTfB?si=BiaFgxCxSEGM51V6lUkuQA\",\n",
    "    ],\n",
    "]\n",
    "TEMP_DATA_FOLDER = \"./temp_data/\"\n",
    "TEST_RATIO = 0.3\n",
    "MUSIC_PATH = \"./data/music\"\n",
    "SPECTROGRAM_PATH = \"./data/spectrogram\"\n",
    "\n",
    "# One could download playlists using command: spotdl <playlist_url>"
   ]
  },
  {
   "cell_type": "markdown",
   "metadata": {},
   "source": [
    "Since I had mp3 files I needed to convert them to .wav format, because librosa works faster with them. Here I also split data into train and test (really a validation) sets."
   ]
  },
  {
   "cell_type": "code",
   "execution_count": 3,
   "metadata": {},
   "outputs": [],
   "source": [
    "for s in os.listdir(TEMP_DATA_FOLDER):\n",
    "    print(s)\n",
    "    files = [file for file in os.listdir(os.path.join(TEMP_DATA_FOLDER,s)) if file.endswith(\".mp3\")]\n",
    "    print(files)\n",
    "    number_of_test_files = int(len(files)*TEST_RATIO)\n",
    "    test_files = random.sample(files,number_of_test_files)\n",
    "    train_files = [f for f in files if f not in test_files]\n",
    "    os.makedirs(os.path.join(MUSIC_PATH,'test',s), exist_ok=True)\n",
    "    for test_file in test_files:\n",
    "        AudioSegment.from_mp3(os.path.join(TEMP_DATA_FOLDER,s,test_file)).export(os.path.join(MUSIC_PATH,'test',s,test_file), format=\"wav\")\n",
    "    os.makedirs(os.path.join(MUSIC_PATH,'train',s), exist_ok=True)\n",
    "    for train_file in train_files:\n",
    "        AudioSegment.from_mp3(os.path.join(TEMP_DATA_FOLDER,s,train_file)).export(os.path.join(MUSIC_PATH,'train',s,train_file), format=\"wav\")\n",
    "        \n",
    "        \n",
    "    "
   ]
  },
  {
   "cell_type": "markdown",
   "metadata": {},
   "source": [
    "In order to recognize those songs I am going to sample random 100 samples 5s long each. This should be enough to find a rhythm. \n",
    "What I have changed from version 1 is that I no longer use plots to generate spectrograms.After collecting more songs I recognized that plots in matplotlib stay in memory after being saved on disc. I have tried many different sollutions (calling garbage collector, clearing figs in matplotlib etc) but none of them worked. Than I found an opinion in the internet that spectograms do not need to be generated with myplotlib, because 'plots are for humans to read' and data for neural nets do not need to look good. Following this persons' suggestion I simply converted decibels from librosa to black and white png images."
   ]
  },
  {
   "cell_type": "code",
   "execution_count": 4,
   "metadata": {},
   "outputs": [],
   "source": [
    "SAMPLES_PER_FILE = 100\n",
    "SAMPLE_DURATION = 5.0"
   ]
  },
  {
   "cell_type": "code",
   "execution_count": 5,
   "metadata": {},
   "outputs": [],
   "source": [
    "def scale_minmax(X, min=0.0, max=1.0):\n",
    "    X_std = (X - X.min()) / (X.max() - X.min())\n",
    "    X_scaled = X_std * (max - min) + min\n",
    "    return X_scaled\n",
    "\n",
    "def create_random_spectrogram(musicPath, spectrogramPath):\n",
    "    file_duration = librosa.get_duration(filename=musicPath)\n",
    "    startTime = random.uniform(20, file_duration - 20 - SAMPLE_DURATION)\n",
    "    samples, sample_rate = librosa.load(\n",
    "        musicPath, duration=SAMPLE_DURATION, offset=startTime\n",
    "    )\n",
    "    S = librosa.feature.melspectrogram(y=samples, sr=sample_rate)\n",
    "    img = scale_minmax(S, 0, 255).astype(np.uint8)\n",
    "    img = np.flip(img, axis=0)\n",
    "    io.imsave(spectrogramPath, img)\n",
    "    "
   ]
  },
  {
   "cell_type": "markdown",
   "metadata": {},
   "source": [
    "Than I run spectrogram genearation on all cores, so it would be faster"
   ]
  },
  {
   "cell_type": "code",
   "execution_count": 6,
   "metadata": {},
   "outputs": [],
   "source": [
    "def generate_spectrogram_for_file(musicPath, spectrogramPathPrefix):\n",
    "    for i in range(SAMPLES_PER_FILE):\n",
    "        create_random_spectrogram(musicPath, f\"{spectrogramPathPrefix}-{i}.png\")\n",
    "\n",
    "\n",
    "def generate_spetrograms():\n",
    "    files_to_process = []\n",
    "    for root, dirs, files in os.walk(\"./data/music\"):\n",
    "        for file in files:\n",
    "            musicPath = os.path.join(root, file)\n",
    "            spectogramPathPrefix = musicPath.replace(\"/music/\", \"/spectrogram/\")\n",
    "            os.makedirs(os.path.dirname(spectogramPathPrefix), exist_ok=True)\n",
    "            files_to_process.append((musicPath, spectogramPathPrefix))\n",
    "    pool = mp.Pool(mp.cpu_count())\n",
    "    pool.starmap(generate_spectrogram_for_file, files_to_process)\n",
    "    pool.terminate()"
   ]
  },
  {
   "cell_type": "code",
   "execution_count": 7,
   "metadata": {},
   "outputs": [],
   "source": [
    "generate_spetrograms()"
   ]
  },
  {
   "cell_type": "markdown",
   "metadata": {},
   "source": [
    "Simple checking if pytorch is using GPU"
   ]
  },
  {
   "cell_type": "code",
   "execution_count": 8,
   "metadata": {},
   "outputs": [
    {
     "name": "stdout",
     "output_type": "stream",
     "text": [
      "GeForce GTX 1650\n"
     ]
    }
   ],
   "source": [
    "import fastai\n",
    "from fastai.vision.all import *\n",
    "import torch\n",
    "print(torch.cuda.get_device_name(0))"
   ]
  },
  {
   "cell_type": "markdown",
   "metadata": {},
   "source": [
    "Data loading"
   ]
  },
  {
   "cell_type": "code",
   "execution_count": 9,
   "metadata": {},
   "outputs": [],
   "source": [
    "data = ImageDataLoaders.from_folder(\"./data/spectrogram\", train='train', valid='test', bs=48)"
   ]
  },
  {
   "cell_type": "markdown",
   "metadata": {},
   "source": [
    "Some sample (not human readable) data:"
   ]
  },
  {
   "cell_type": "code",
   "execution_count": 10,
   "metadata": {},
   "outputs": [
    {
     "data": {
      "image/png": "[encoded data removed]",
      "text/plain": [
       "<Figure size 648x648 with 9 Axes>"
      ]
     },
     "metadata": {
      "needs_background": "light"
     },
     "output_type": "display_data"
    }
   ],
   "source": [
    "data.show_batch()"
   ]
  },
  {
   "cell_type": "markdown",
   "metadata": {},
   "source": [
    "I will train my model on resnet34, simply because I saw that other people used it succesfully with spectrgrams."
   ]
  },
  {
   "cell_type": "code",
   "execution_count": 11,
   "metadata": {},
   "outputs": [],
   "source": [
    "learn = cnn_learner(data, fastai.vision.models.resnet34, metrics=accuracy)"
   ]
  },
  {
   "cell_type": "markdown",
   "metadata": {},
   "source": [
    "Lets try what we can get without unfreezing models layers"
   ]
  },
  {
   "cell_type": "code",
   "execution_count": 12,
   "metadata": {
    "scrolled": true
   },
   "outputs": [
    {
     "data": {
      "text/html": [
       "<table border=\"1\" class=\"dataframe\">\n",
       "  <thead>\n",
       "    <tr style=\"text-align: left;\">\n",
       "      <th>epoch</th>\n",
       "      <th>train_loss</th>\n",
       "      <th>valid_loss</th>\n",
       "      <th>accuracy</th>\n",
       "      <th>time</th>\n",
       "    </tr>\n",
       "  </thead>\n",
       "  <tbody>\n",
       "    <tr>\n",
       "      <td>0</td>\n",
       "      <td>1.183410</td>\n",
       "      <td>1.003218</td>\n",
       "      <td>0.655091</td>\n",
       "      <td>00:48</td>\n",
       "    </tr>\n",
       "    <tr>\n",
       "      <td>1</td>\n",
       "      <td>0.584366</td>\n",
       "      <td>0.641498</td>\n",
       "      <td>0.795818</td>\n",
       "      <td>00:45</td>\n",
       "    </tr>\n",
       "    <tr>\n",
       "      <td>2</td>\n",
       "      <td>0.354686</td>\n",
       "      <td>0.526406</td>\n",
       "      <td>0.845636</td>\n",
       "      <td>00:45</td>\n",
       "    </tr>\n",
       "    <tr>\n",
       "      <td>3</td>\n",
       "      <td>0.230911</td>\n",
       "      <td>0.509390</td>\n",
       "      <td>0.863636</td>\n",
       "      <td>00:45</td>\n",
       "    </tr>\n",
       "    <tr>\n",
       "      <td>4</td>\n",
       "      <td>0.171763</td>\n",
       "      <td>0.531256</td>\n",
       "      <td>0.870182</td>\n",
       "      <td>00:45</td>\n",
       "    </tr>\n",
       "  </tbody>\n",
       "</table>"
      ],
      "text/plain": [
       "<IPython.core.display.HTML object>"
      ]
     },
     "metadata": {},
     "output_type": "display_data"
    }
   ],
   "source": [
    "learn.fit_one_cycle(5)"
   ]
  },
  {
   "cell_type": "code",
   "execution_count": 13,
   "metadata": {},
   "outputs": [],
   "source": [
    "torch.cuda.empty_cache()"
   ]
  },
  {
   "cell_type": "markdown",
   "metadata": {},
   "source": [
    "Lets see, where are we doing mistakes:"
   ]
  },
  {
   "cell_type": "code",
   "execution_count": 14,
   "metadata": {},
   "outputs": [
    {
     "data": {
      "text/html": [],
      "text/plain": [
       "<IPython.core.display.HTML object>"
      ]
     },
     "metadata": {},
     "output_type": "display_data"
    },
    {
     "data": {
      "image/png": "[encoded data removed]",
      "text/plain": [
       "<Figure size 432x288 with 1 Axes>"
      ]
     },
     "metadata": {
      "needs_background": "light"
     },
     "output_type": "display_data"
    }
   ],
   "source": [
    "interp = ClassificationInterpretation.from_learner(learn)\n",
    "interp.plot_confusion_matrix()"
   ]
  },
  {
   "cell_type": "code",
   "execution_count": 15,
   "metadata": {},
   "outputs": [],
   "source": [
    "torch.cuda.empty_cache()"
   ]
  },
  {
   "cell_type": "markdown",
   "metadata": {},
   "source": [
    "Now lets unfreeze a model and find suitable learning rates"
   ]
  },
  {
   "cell_type": "code",
   "execution_count": 16,
   "metadata": {},
   "outputs": [
    {
     "data": {
      "text/html": [],
      "text/plain": [
       "<IPython.core.display.HTML object>"
      ]
     },
     "metadata": {},
     "output_type": "display_data"
    },
    {
     "data": {
      "text/plain": [
       "SuggestedLRs(lr_min=7.585775847473997e-08, lr_steep=1.3182567499825382e-06)"
      ]
     },
     "execution_count": 16,
     "metadata": {},
     "output_type": "execute_result"
    },
    {
     "data": {
      "image/png": "[encoded data removed]",
      "text/plain": [
       "<Figure size 432x288 with 1 Axes>"
      ]
     },
     "metadata": {
      "needs_background": "light"
     },
     "output_type": "display_data"
    }
   ],
   "source": [
    "learn.unfreeze()\n",
    "learn.lr_find()"
   ]
  },
  {
   "cell_type": "code",
   "execution_count": 17,
   "metadata": {},
   "outputs": [],
   "source": [
    "torch.cuda.empty_cache()"
   ]
  },
  {
   "cell_type": "code",
   "execution_count": 18,
   "metadata": {
    "scrolled": true
   },
   "outputs": [
    {
     "data": {
      "text/html": [
       "<table border=\"1\" class=\"dataframe\">\n",
       "  <thead>\n",
       "    <tr style=\"text-align: left;\">\n",
       "      <th>epoch</th>\n",
       "      <th>train_loss</th>\n",
       "      <th>valid_loss</th>\n",
       "      <th>accuracy</th>\n",
       "      <th>time</th>\n",
       "    </tr>\n",
       "  </thead>\n",
       "  <tbody>\n",
       "    <tr>\n",
       "      <td>0</td>\n",
       "      <td>0.356072</td>\n",
       "      <td>2.792246</td>\n",
       "      <td>0.593273</td>\n",
       "      <td>01:03</td>\n",
       "    </tr>\n",
       "    <tr>\n",
       "      <td>1</td>\n",
       "      <td>0.278037</td>\n",
       "      <td>1.409011</td>\n",
       "      <td>0.659091</td>\n",
       "      <td>01:03</td>\n",
       "    </tr>\n",
       "    <tr>\n",
       "      <td>2</td>\n",
       "      <td>0.153560</td>\n",
       "      <td>2.188529</td>\n",
       "      <td>0.604182</td>\n",
       "      <td>01:03</td>\n",
       "    </tr>\n",
       "    <tr>\n",
       "      <td>3</td>\n",
       "      <td>0.126565</td>\n",
       "      <td>0.349394</td>\n",
       "      <td>0.866182</td>\n",
       "      <td>01:03</td>\n",
       "    </tr>\n",
       "    <tr>\n",
       "      <td>4</td>\n",
       "      <td>0.101098</td>\n",
       "      <td>0.465541</td>\n",
       "      <td>0.861091</td>\n",
       "      <td>01:03</td>\n",
       "    </tr>\n",
       "    <tr>\n",
       "      <td>5</td>\n",
       "      <td>0.046592</td>\n",
       "      <td>0.347811</td>\n",
       "      <td>0.903455</td>\n",
       "      <td>01:03</td>\n",
       "    </tr>\n",
       "    <tr>\n",
       "      <td>6</td>\n",
       "      <td>0.032432</td>\n",
       "      <td>0.346190</td>\n",
       "      <td>0.930000</td>\n",
       "      <td>01:03</td>\n",
       "    </tr>\n",
       "    <tr>\n",
       "      <td>7</td>\n",
       "      <td>0.007098</td>\n",
       "      <td>0.347931</td>\n",
       "      <td>0.943818</td>\n",
       "      <td>01:03</td>\n",
       "    </tr>\n",
       "    <tr>\n",
       "      <td>8</td>\n",
       "      <td>0.003786</td>\n",
       "      <td>0.358010</td>\n",
       "      <td>0.953455</td>\n",
       "      <td>01:03</td>\n",
       "    </tr>\n",
       "    <tr>\n",
       "      <td>9</td>\n",
       "      <td>0.002560</td>\n",
       "      <td>0.398110</td>\n",
       "      <td>0.952182</td>\n",
       "      <td>01:03</td>\n",
       "    </tr>\n",
       "  </tbody>\n",
       "</table>"
      ],
      "text/plain": [
       "<IPython.core.display.HTML object>"
      ]
     },
     "metadata": {},
     "output_type": "display_data"
    }
   ],
   "source": [
    "learn.fit_one_cycle(10, max_lr=slice(2.29e-07, 1.58e-06))"
   ]
  },
  {
   "cell_type": "code",
   "execution_count": 19,
   "metadata": {
    "scrolled": true
   },
   "outputs": [
    {
     "data": {
      "text/html": [],
      "text/plain": [
       "<IPython.core.display.HTML object>"
      ]
     },
     "metadata": {},
     "output_type": "display_data"
    },
    {
     "data": {
      "image/png": "[encoded data removed]",
      "text/plain": [
       "<Figure size 432x288 with 1 Axes>"
      ]
     },
     "metadata": {
      "needs_background": "light"
     },
     "output_type": "display_data"
    }
   ],
   "source": [
    "interp = ClassificationInterpretation.from_learner(learn)\n",
    "interp.plot_confusion_matrix()"
   ]
  },
  {
   "cell_type": "markdown",
   "metadata": {},
   "source": [
    "# Conclusions\n",
    "Clearly getting more data gives better accuracy. There is still some problem with classifying bachata as chacha. Maybe because they are both latino.. I think that it might be due to the fact this class is smaller than others. The surprisingly good score for Salsa might by caused by the fact that there are many songs of the same singers so maybe this neural network has learned to recognize their voices.\n",
    "\n",
    "In v3 I will try to clear the dataset even more, and maybe add viennese waltz or English waltz."
   ]
  },
  {
   "cell_type": "code",
   "execution_count": null,
   "metadata": {},
   "outputs": [],
   "source": []
  }
 ],
 "metadata": {
  "kernelspec": {
   "display_name": "Python [conda env:fastai]",
   "language": "python",
   "name": "conda-env-fastai-py"
  },
  "language_info": {
   "codemirror_mode": {
    "name": "ipython",
    "version": 3
   },
   "file_extension": ".py",
   "mimetype": "text/x-python",
   "name": "python",
   "nbconvert_exporter": "python",
   "pygments_lexer": "ipython3",
   "version": "3.8.5"
  }
 },
 "nbformat": 4,
 "nbformat_minor": 4
}
